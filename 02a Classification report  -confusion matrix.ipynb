{
 "cells": [
  {
   "cell_type": "code",
   "execution_count": 8,
   "id": "a71294a8",
   "metadata": {},
   "outputs": [],
   "source": [
    "y_true = [0,1, 0, 1, 2]\n",
    "y_pred = [1, 1, 0, 2, 0]"
   ]
  },
  {
   "cell_type": "code",
   "execution_count": 9,
   "id": "7df36190",
   "metadata": {},
   "outputs": [],
   "source": [
    "from sklearn.metrics import confusion_matrix, classification_report"
   ]
  },
  {
   "cell_type": "code",
   "execution_count": 10,
   "id": "31734dea",
   "metadata": {},
   "outputs": [
    {
     "data": {
      "text/plain": [
       "array([[1, 1, 0],\n",
       "       [0, 1, 1],\n",
       "       [1, 0, 0]], dtype=int64)"
      ]
     },
     "execution_count": 10,
     "metadata": {},
     "output_type": "execute_result"
    }
   ],
   "source": [
    "confusion_matrix(y_true, y_pred)"
   ]
  },
  {
   "cell_type": "code",
   "execution_count": 11,
   "id": "c55bfcdb",
   "metadata": {},
   "outputs": [
    {
     "name": "stdout",
     "output_type": "stream",
     "text": [
      "              precision    recall  f1-score   support\n",
      "\n",
      "           0       0.50      0.50      0.50         2\n",
      "           1       0.50      0.50      0.50         2\n",
      "           2       0.00      0.00      0.00         1\n",
      "\n",
      "    accuracy                           0.40         5\n",
      "   macro avg       0.33      0.33      0.33         5\n",
      "weighted avg       0.40      0.40      0.40         5\n",
      "\n"
     ]
    }
   ],
   "source": [
    "print(classification_report(y_true, y_pred))"
   ]
  },
  {
   "cell_type": "code",
   "execution_count": null,
   "id": "012f5510",
   "metadata": {},
   "outputs": [],
   "source": [
    "clf.predict(X) # Predicts labels/class/categories\n",
    "clf.predict_proba(X)  # Predicts class probabilities (RF, LogisticRegression, MLP)"
   ]
  }
 ],
 "metadata": {
  "kernelspec": {
   "display_name": "Python 3 (ipykernel)",
   "language": "python",
   "name": "python3"
  },
  "language_info": {
   "codemirror_mode": {
    "name": "ipython",
    "version": 3
   },
   "file_extension": ".py",
   "mimetype": "text/x-python",
   "name": "python",
   "nbconvert_exporter": "python",
   "pygments_lexer": "ipython3",
   "version": "3.9.4"
  }
 },
 "nbformat": 4,
 "nbformat_minor": 5
}
