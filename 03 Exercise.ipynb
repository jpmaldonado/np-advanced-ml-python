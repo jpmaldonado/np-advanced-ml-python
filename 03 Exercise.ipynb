{
 "cells": [
  {
   "cell_type": "markdown",
   "id": "2c5d1370",
   "metadata": {},
   "source": [
    "### Goal\n",
    "Choose one of the `sentiment labelled sentences` examples and build a classification model.\n",
    "\n",
    "**Bonus:** Split intro train/test *before* applying the vectorizer. "
   ]
  },
  {
   "cell_type": "code",
   "execution_count": null,
   "id": "62d3a43f",
   "metadata": {},
   "outputs": [],
   "source": []
  }
 ],
 "metadata": {
  "kernelspec": {
   "display_name": "Python 3 (ipykernel)",
   "language": "python",
   "name": "python3"
  },
  "language_info": {
   "codemirror_mode": {
    "name": "ipython",
    "version": 3
   },
   "file_extension": ".py",
   "mimetype": "text/x-python",
   "name": "python",
   "nbconvert_exporter": "python",
   "pygments_lexer": "ipython3",
   "version": "3.9.4"
  }
 },
 "nbformat": 4,
 "nbformat_minor": 5
}
