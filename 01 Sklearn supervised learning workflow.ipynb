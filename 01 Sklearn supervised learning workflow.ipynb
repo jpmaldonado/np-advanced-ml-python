{
 "cells": [
  {
   "cell_type": "code",
   "execution_count": 1,
   "id": "ae45dad7",
   "metadata": {},
   "outputs": [],
   "source": [
    "import pandas as pd\n",
    "import matplotlib.pyplot as plt\n",
    "%matplotlib inline"
   ]
  },
  {
   "cell_type": "markdown",
   "id": "3cb0f64d",
   "metadata": {},
   "source": [
    "#### 1. Get some data"
   ]
  },
  {
   "cell_type": "code",
   "execution_count": 2,
   "id": "385b6afb",
   "metadata": {},
   "outputs": [],
   "source": [
    "df = pd.read_csv(\"./data/CaliforniaHousing/cal_housing.data\", header=None)"
   ]
  },
  {
   "cell_type": "code",
   "execution_count": 3,
   "id": "f7c2f58c",
   "metadata": {},
   "outputs": [
    {
     "data": {
      "text/html": [
       "<div>\n",
       "<style scoped>\n",
       "    .dataframe tbody tr th:only-of-type {\n",
       "        vertical-align: middle;\n",
       "    }\n",
       "\n",
       "    .dataframe tbody tr th {\n",
       "        vertical-align: top;\n",
       "    }\n",
       "\n",
       "    .dataframe thead th {\n",
       "        text-align: right;\n",
       "    }\n",
       "</style>\n",
       "<table border=\"1\" class=\"dataframe\">\n",
       "  <thead>\n",
       "    <tr style=\"text-align: right;\">\n",
       "      <th></th>\n",
       "      <th>0</th>\n",
       "      <th>1</th>\n",
       "      <th>2</th>\n",
       "      <th>3</th>\n",
       "      <th>4</th>\n",
       "      <th>5</th>\n",
       "      <th>6</th>\n",
       "      <th>7</th>\n",
       "      <th>8</th>\n",
       "    </tr>\n",
       "  </thead>\n",
       "  <tbody>\n",
       "    <tr>\n",
       "      <th>0</th>\n",
       "      <td>-122.23</td>\n",
       "      <td>37.88</td>\n",
       "      <td>41.0</td>\n",
       "      <td>880.0</td>\n",
       "      <td>129.0</td>\n",
       "      <td>322.0</td>\n",
       "      <td>126.0</td>\n",
       "      <td>8.3252</td>\n",
       "      <td>452600.0</td>\n",
       "    </tr>\n",
       "    <tr>\n",
       "      <th>1</th>\n",
       "      <td>-122.22</td>\n",
       "      <td>37.86</td>\n",
       "      <td>21.0</td>\n",
       "      <td>7099.0</td>\n",
       "      <td>1106.0</td>\n",
       "      <td>2401.0</td>\n",
       "      <td>1138.0</td>\n",
       "      <td>8.3014</td>\n",
       "      <td>358500.0</td>\n",
       "    </tr>\n",
       "    <tr>\n",
       "      <th>2</th>\n",
       "      <td>-122.24</td>\n",
       "      <td>37.85</td>\n",
       "      <td>52.0</td>\n",
       "      <td>1467.0</td>\n",
       "      <td>190.0</td>\n",
       "      <td>496.0</td>\n",
       "      <td>177.0</td>\n",
       "      <td>7.2574</td>\n",
       "      <td>352100.0</td>\n",
       "    </tr>\n",
       "    <tr>\n",
       "      <th>3</th>\n",
       "      <td>-122.25</td>\n",
       "      <td>37.85</td>\n",
       "      <td>52.0</td>\n",
       "      <td>1274.0</td>\n",
       "      <td>235.0</td>\n",
       "      <td>558.0</td>\n",
       "      <td>219.0</td>\n",
       "      <td>5.6431</td>\n",
       "      <td>341300.0</td>\n",
       "    </tr>\n",
       "    <tr>\n",
       "      <th>4</th>\n",
       "      <td>-122.25</td>\n",
       "      <td>37.85</td>\n",
       "      <td>52.0</td>\n",
       "      <td>1627.0</td>\n",
       "      <td>280.0</td>\n",
       "      <td>565.0</td>\n",
       "      <td>259.0</td>\n",
       "      <td>3.8462</td>\n",
       "      <td>342200.0</td>\n",
       "    </tr>\n",
       "  </tbody>\n",
       "</table>\n",
       "</div>"
      ],
      "text/plain": [
       "        0      1     2       3       4       5       6       7         8\n",
       "0 -122.23  37.88  41.0   880.0   129.0   322.0   126.0  8.3252  452600.0\n",
       "1 -122.22  37.86  21.0  7099.0  1106.0  2401.0  1138.0  8.3014  358500.0\n",
       "2 -122.24  37.85  52.0  1467.0   190.0   496.0   177.0  7.2574  352100.0\n",
       "3 -122.25  37.85  52.0  1274.0   235.0   558.0   219.0  5.6431  341300.0\n",
       "4 -122.25  37.85  52.0  1627.0   280.0   565.0   259.0  3.8462  342200.0"
      ]
     },
     "execution_count": 3,
     "metadata": {},
     "output_type": "execute_result"
    }
   ],
   "source": [
    "df.head()"
   ]
  },
  {
   "cell_type": "code",
   "execution_count": 4,
   "id": "f8b394df",
   "metadata": {},
   "outputs": [],
   "source": [
    "headers = ['longitude',\n",
    "            'latitude',\n",
    "            'housingMedianAge',\n",
    "            'totalRooms',\n",
    "            'totalBedrooms',\n",
    "            'population',\n",
    "            'households',\n",
    "            'medianIncome',\n",
    "            'medianHouseValue']"
   ]
  },
  {
   "cell_type": "code",
   "execution_count": 5,
   "id": "03cb5456",
   "metadata": {},
   "outputs": [],
   "source": [
    "df.columns = headers"
   ]
  },
  {
   "cell_type": "code",
   "execution_count": 6,
   "id": "0c3f49ad",
   "metadata": {},
   "outputs": [
    {
     "data": {
      "text/html": [
       "<div>\n",
       "<style scoped>\n",
       "    .dataframe tbody tr th:only-of-type {\n",
       "        vertical-align: middle;\n",
       "    }\n",
       "\n",
       "    .dataframe tbody tr th {\n",
       "        vertical-align: top;\n",
       "    }\n",
       "\n",
       "    .dataframe thead th {\n",
       "        text-align: right;\n",
       "    }\n",
       "</style>\n",
       "<table border=\"1\" class=\"dataframe\">\n",
       "  <thead>\n",
       "    <tr style=\"text-align: right;\">\n",
       "      <th></th>\n",
       "      <th>longitude</th>\n",
       "      <th>latitude</th>\n",
       "      <th>housingMedianAge</th>\n",
       "      <th>totalRooms</th>\n",
       "      <th>totalBedrooms</th>\n",
       "      <th>population</th>\n",
       "      <th>households</th>\n",
       "      <th>medianIncome</th>\n",
       "      <th>medianHouseValue</th>\n",
       "    </tr>\n",
       "  </thead>\n",
       "  <tbody>\n",
       "    <tr>\n",
       "      <th>0</th>\n",
       "      <td>-122.23</td>\n",
       "      <td>37.88</td>\n",
       "      <td>41.0</td>\n",
       "      <td>880.0</td>\n",
       "      <td>129.0</td>\n",
       "      <td>322.0</td>\n",
       "      <td>126.0</td>\n",
       "      <td>8.3252</td>\n",
       "      <td>452600.0</td>\n",
       "    </tr>\n",
       "    <tr>\n",
       "      <th>1</th>\n",
       "      <td>-122.22</td>\n",
       "      <td>37.86</td>\n",
       "      <td>21.0</td>\n",
       "      <td>7099.0</td>\n",
       "      <td>1106.0</td>\n",
       "      <td>2401.0</td>\n",
       "      <td>1138.0</td>\n",
       "      <td>8.3014</td>\n",
       "      <td>358500.0</td>\n",
       "    </tr>\n",
       "    <tr>\n",
       "      <th>2</th>\n",
       "      <td>-122.24</td>\n",
       "      <td>37.85</td>\n",
       "      <td>52.0</td>\n",
       "      <td>1467.0</td>\n",
       "      <td>190.0</td>\n",
       "      <td>496.0</td>\n",
       "      <td>177.0</td>\n",
       "      <td>7.2574</td>\n",
       "      <td>352100.0</td>\n",
       "    </tr>\n",
       "    <tr>\n",
       "      <th>3</th>\n",
       "      <td>-122.25</td>\n",
       "      <td>37.85</td>\n",
       "      <td>52.0</td>\n",
       "      <td>1274.0</td>\n",
       "      <td>235.0</td>\n",
       "      <td>558.0</td>\n",
       "      <td>219.0</td>\n",
       "      <td>5.6431</td>\n",
       "      <td>341300.0</td>\n",
       "    </tr>\n",
       "    <tr>\n",
       "      <th>4</th>\n",
       "      <td>-122.25</td>\n",
       "      <td>37.85</td>\n",
       "      <td>52.0</td>\n",
       "      <td>1627.0</td>\n",
       "      <td>280.0</td>\n",
       "      <td>565.0</td>\n",
       "      <td>259.0</td>\n",
       "      <td>3.8462</td>\n",
       "      <td>342200.0</td>\n",
       "    </tr>\n",
       "  </tbody>\n",
       "</table>\n",
       "</div>"
      ],
      "text/plain": [
       "   longitude  latitude  housingMedianAge  totalRooms  totalBedrooms  \\\n",
       "0    -122.23     37.88              41.0       880.0          129.0   \n",
       "1    -122.22     37.86              21.0      7099.0         1106.0   \n",
       "2    -122.24     37.85              52.0      1467.0          190.0   \n",
       "3    -122.25     37.85              52.0      1274.0          235.0   \n",
       "4    -122.25     37.85              52.0      1627.0          280.0   \n",
       "\n",
       "   population  households  medianIncome  medianHouseValue  \n",
       "0       322.0       126.0        8.3252          452600.0  \n",
       "1      2401.0      1138.0        8.3014          358500.0  \n",
       "2       496.0       177.0        7.2574          352100.0  \n",
       "3       558.0       219.0        5.6431          341300.0  \n",
       "4       565.0       259.0        3.8462          342200.0  "
      ]
     },
     "execution_count": 6,
     "metadata": {},
     "output_type": "execute_result"
    }
   ],
   "source": [
    "df.head()"
   ]
  },
  {
   "cell_type": "code",
   "execution_count": 7,
   "id": "5068cb59",
   "metadata": {},
   "outputs": [
    {
     "data": {
      "text/html": [
       "<div>\n",
       "<style scoped>\n",
       "    .dataframe tbody tr th:only-of-type {\n",
       "        vertical-align: middle;\n",
       "    }\n",
       "\n",
       "    .dataframe tbody tr th {\n",
       "        vertical-align: top;\n",
       "    }\n",
       "\n",
       "    .dataframe thead th {\n",
       "        text-align: right;\n",
       "    }\n",
       "</style>\n",
       "<table border=\"1\" class=\"dataframe\">\n",
       "  <thead>\n",
       "    <tr style=\"text-align: right;\">\n",
       "      <th></th>\n",
       "      <th>longitude</th>\n",
       "      <th>latitude</th>\n",
       "      <th>housingMedianAge</th>\n",
       "      <th>totalRooms</th>\n",
       "      <th>totalBedrooms</th>\n",
       "      <th>population</th>\n",
       "      <th>households</th>\n",
       "      <th>medianIncome</th>\n",
       "      <th>medianHouseValue</th>\n",
       "    </tr>\n",
       "  </thead>\n",
       "  <tbody>\n",
       "    <tr>\n",
       "      <th>count</th>\n",
       "      <td>20640.000000</td>\n",
       "      <td>20640.000000</td>\n",
       "      <td>20640.000000</td>\n",
       "      <td>20640.000000</td>\n",
       "      <td>20640.000000</td>\n",
       "      <td>20640.000000</td>\n",
       "      <td>20640.000000</td>\n",
       "      <td>20640.000000</td>\n",
       "      <td>20640.000000</td>\n",
       "    </tr>\n",
       "    <tr>\n",
       "      <th>mean</th>\n",
       "      <td>-119.569704</td>\n",
       "      <td>35.631861</td>\n",
       "      <td>28.639486</td>\n",
       "      <td>2635.763081</td>\n",
       "      <td>537.898014</td>\n",
       "      <td>1425.476744</td>\n",
       "      <td>499.539680</td>\n",
       "      <td>3.870671</td>\n",
       "      <td>206855.816909</td>\n",
       "    </tr>\n",
       "    <tr>\n",
       "      <th>std</th>\n",
       "      <td>2.003532</td>\n",
       "      <td>2.135952</td>\n",
       "      <td>12.585558</td>\n",
       "      <td>2181.615252</td>\n",
       "      <td>421.247906</td>\n",
       "      <td>1132.462122</td>\n",
       "      <td>382.329753</td>\n",
       "      <td>1.899822</td>\n",
       "      <td>115395.615874</td>\n",
       "    </tr>\n",
       "    <tr>\n",
       "      <th>min</th>\n",
       "      <td>-124.350000</td>\n",
       "      <td>32.540000</td>\n",
       "      <td>1.000000</td>\n",
       "      <td>2.000000</td>\n",
       "      <td>1.000000</td>\n",
       "      <td>3.000000</td>\n",
       "      <td>1.000000</td>\n",
       "      <td>0.499900</td>\n",
       "      <td>14999.000000</td>\n",
       "    </tr>\n",
       "    <tr>\n",
       "      <th>25%</th>\n",
       "      <td>-121.800000</td>\n",
       "      <td>33.930000</td>\n",
       "      <td>18.000000</td>\n",
       "      <td>1447.750000</td>\n",
       "      <td>295.000000</td>\n",
       "      <td>787.000000</td>\n",
       "      <td>280.000000</td>\n",
       "      <td>2.563400</td>\n",
       "      <td>119600.000000</td>\n",
       "    </tr>\n",
       "    <tr>\n",
       "      <th>50%</th>\n",
       "      <td>-118.490000</td>\n",
       "      <td>34.260000</td>\n",
       "      <td>29.000000</td>\n",
       "      <td>2127.000000</td>\n",
       "      <td>435.000000</td>\n",
       "      <td>1166.000000</td>\n",
       "      <td>409.000000</td>\n",
       "      <td>3.534800</td>\n",
       "      <td>179700.000000</td>\n",
       "    </tr>\n",
       "    <tr>\n",
       "      <th>75%</th>\n",
       "      <td>-118.010000</td>\n",
       "      <td>37.710000</td>\n",
       "      <td>37.000000</td>\n",
       "      <td>3148.000000</td>\n",
       "      <td>647.000000</td>\n",
       "      <td>1725.000000</td>\n",
       "      <td>605.000000</td>\n",
       "      <td>4.743250</td>\n",
       "      <td>264725.000000</td>\n",
       "    </tr>\n",
       "    <tr>\n",
       "      <th>max</th>\n",
       "      <td>-114.310000</td>\n",
       "      <td>41.950000</td>\n",
       "      <td>52.000000</td>\n",
       "      <td>39320.000000</td>\n",
       "      <td>6445.000000</td>\n",
       "      <td>35682.000000</td>\n",
       "      <td>6082.000000</td>\n",
       "      <td>15.000100</td>\n",
       "      <td>500001.000000</td>\n",
       "    </tr>\n",
       "  </tbody>\n",
       "</table>\n",
       "</div>"
      ],
      "text/plain": [
       "          longitude      latitude  housingMedianAge    totalRooms  \\\n",
       "count  20640.000000  20640.000000      20640.000000  20640.000000   \n",
       "mean    -119.569704     35.631861         28.639486   2635.763081   \n",
       "std        2.003532      2.135952         12.585558   2181.615252   \n",
       "min     -124.350000     32.540000          1.000000      2.000000   \n",
       "25%     -121.800000     33.930000         18.000000   1447.750000   \n",
       "50%     -118.490000     34.260000         29.000000   2127.000000   \n",
       "75%     -118.010000     37.710000         37.000000   3148.000000   \n",
       "max     -114.310000     41.950000         52.000000  39320.000000   \n",
       "\n",
       "       totalBedrooms    population    households  medianIncome  \\\n",
       "count   20640.000000  20640.000000  20640.000000  20640.000000   \n",
       "mean      537.898014   1425.476744    499.539680      3.870671   \n",
       "std       421.247906   1132.462122    382.329753      1.899822   \n",
       "min         1.000000      3.000000      1.000000      0.499900   \n",
       "25%       295.000000    787.000000    280.000000      2.563400   \n",
       "50%       435.000000   1166.000000    409.000000      3.534800   \n",
       "75%       647.000000   1725.000000    605.000000      4.743250   \n",
       "max      6445.000000  35682.000000   6082.000000     15.000100   \n",
       "\n",
       "       medianHouseValue  \n",
       "count      20640.000000  \n",
       "mean      206855.816909  \n",
       "std       115395.615874  \n",
       "min        14999.000000  \n",
       "25%       119600.000000  \n",
       "50%       179700.000000  \n",
       "75%       264725.000000  \n",
       "max       500001.000000  "
      ]
     },
     "execution_count": 7,
     "metadata": {},
     "output_type": "execute_result"
    }
   ],
   "source": [
    "df.describe()"
   ]
  },
  {
   "cell_type": "code",
   "execution_count": 8,
   "id": "2640ca9f",
   "metadata": {},
   "outputs": [
    {
     "name": "stdout",
     "output_type": "stream",
     "text": [
      "<class 'pandas.core.frame.DataFrame'>\n",
      "RangeIndex: 20640 entries, 0 to 20639\n",
      "Data columns (total 9 columns):\n",
      " #   Column            Non-Null Count  Dtype  \n",
      "---  ------            --------------  -----  \n",
      " 0   longitude         20640 non-null  float64\n",
      " 1   latitude          20640 non-null  float64\n",
      " 2   housingMedianAge  20640 non-null  float64\n",
      " 3   totalRooms        20640 non-null  float64\n",
      " 4   totalBedrooms     20640 non-null  float64\n",
      " 5   population        20640 non-null  float64\n",
      " 6   households        20640 non-null  float64\n",
      " 7   medianIncome      20640 non-null  float64\n",
      " 8   medianHouseValue  20640 non-null  float64\n",
      "dtypes: float64(9)\n",
      "memory usage: 1.4 MB\n"
     ]
    }
   ],
   "source": [
    "df.info()"
   ]
  },
  {
   "cell_type": "markdown",
   "id": "c1ab1917",
   "metadata": {},
   "source": [
    "#### 2. Create train and test sets"
   ]
  },
  {
   "cell_type": "code",
   "execution_count": 9,
   "id": "9e661fc2",
   "metadata": {},
   "outputs": [],
   "source": [
    "from sklearn.model_selection import train_test_split"
   ]
  },
  {
   "cell_type": "code",
   "execution_count": 10,
   "id": "addcbb98",
   "metadata": {},
   "outputs": [],
   "source": [
    "y = df['medianHouseValue']\n",
    "X = df.iloc[:,:-1]"
   ]
  },
  {
   "cell_type": "code",
   "execution_count": 11,
   "id": "b3dc4dbc",
   "metadata": {},
   "outputs": [],
   "source": [
    "X_train, X_test, y_train, y_test = train_test_split(X, y, train_size=0.8, random_state=1234)"
   ]
  },
  {
   "cell_type": "code",
   "execution_count": 12,
   "id": "6979efbb",
   "metadata": {},
   "outputs": [
    {
     "data": {
      "text/plain": [
       "(16512, 8)"
      ]
     },
     "execution_count": 12,
     "metadata": {},
     "output_type": "execute_result"
    }
   ],
   "source": [
    "X_train.shape"
   ]
  },
  {
   "cell_type": "code",
   "execution_count": 13,
   "id": "9fa15fec",
   "metadata": {},
   "outputs": [
    {
     "data": {
      "text/plain": [
       "(4128, 8)"
      ]
     },
     "execution_count": 13,
     "metadata": {},
     "output_type": "execute_result"
    }
   ],
   "source": [
    "X_test.shape"
   ]
  },
  {
   "cell_type": "markdown",
   "id": "cfee7c61",
   "metadata": {},
   "source": [
    "#### 3. Choosing the (baseline) model "
   ]
  },
  {
   "cell_type": "code",
   "execution_count": 14,
   "id": "014f58ae",
   "metadata": {},
   "outputs": [],
   "source": [
    "from sklearn.linear_model import LinearRegression"
   ]
  },
  {
   "cell_type": "code",
   "execution_count": 15,
   "id": "ba811b11",
   "metadata": {},
   "outputs": [],
   "source": [
    "lr = LinearRegression()"
   ]
  },
  {
   "cell_type": "code",
   "execution_count": 16,
   "id": "462e2551",
   "metadata": {},
   "outputs": [
    {
     "data": {
      "text/plain": [
       "LinearRegression()"
      ]
     },
     "execution_count": 16,
     "metadata": {},
     "output_type": "execute_result"
    }
   ],
   "source": [
    "lr.fit(X_train, y_train)"
   ]
  },
  {
   "cell_type": "code",
   "execution_count": 17,
   "id": "64ccf280",
   "metadata": {},
   "outputs": [
    {
     "data": {
      "text/plain": [
       "-3565599.9958589138"
      ]
     },
     "execution_count": 17,
     "metadata": {},
     "output_type": "execute_result"
    }
   ],
   "source": [
    "lr.intercept_"
   ]
  },
  {
   "cell_type": "code",
   "execution_count": 18,
   "id": "cb352656",
   "metadata": {},
   "outputs": [
    {
     "data": {
      "text/plain": [
       "array([-4.24738451e+04, -4.22192961e+04,  1.16779804e+03, -8.10283487e+00,\n",
       "        1.12525360e+02, -3.82590578e+01,  4.90092563e+01,  4.01585413e+04])"
      ]
     },
     "execution_count": 18,
     "metadata": {},
     "output_type": "execute_result"
    }
   ],
   "source": [
    "lr.coef_"
   ]
  },
  {
   "cell_type": "code",
   "execution_count": 19,
   "id": "89f62e18",
   "metadata": {},
   "outputs": [
    {
     "data": {
      "text/plain": [
       "229065.5265845852"
      ]
     },
     "execution_count": 19,
     "metadata": {},
     "output_type": "execute_result"
    }
   ],
   "source": [
    "sum(X_train.iloc[0,:]*lr.coef_)+lr.intercept_"
   ]
  },
  {
   "cell_type": "code",
   "execution_count": 20,
   "id": "39a9b38c",
   "metadata": {},
   "outputs": [
    {
     "data": {
      "text/plain": [
       "452600.0"
      ]
     },
     "execution_count": 20,
     "metadata": {},
     "output_type": "execute_result"
    }
   ],
   "source": [
    "y_train[0]"
   ]
  },
  {
   "cell_type": "code",
   "execution_count": 21,
   "id": "7cde9c28",
   "metadata": {},
   "outputs": [],
   "source": [
    "y_preds = lr.predict(X_train)"
   ]
  },
  {
   "cell_type": "code",
   "execution_count": 22,
   "id": "a31c3018",
   "metadata": {},
   "outputs": [
    {
     "data": {
      "text/plain": [
       "229065.5265845852"
      ]
     },
     "execution_count": 22,
     "metadata": {},
     "output_type": "execute_result"
    }
   ],
   "source": [
    "y_preds[0]"
   ]
  },
  {
   "cell_type": "code",
   "execution_count": 23,
   "id": "6b61e1cb",
   "metadata": {},
   "outputs": [
    {
     "data": {
      "text/plain": [
       "0.6379210375824909"
      ]
     },
     "execution_count": 23,
     "metadata": {},
     "output_type": "execute_result"
    }
   ],
   "source": [
    "training_score = lr.score(X_train, y_train)\n",
    "training_score"
   ]
  },
  {
   "cell_type": "code",
   "execution_count": 24,
   "id": "a35605b5",
   "metadata": {},
   "outputs": [
    {
     "data": {
      "text/plain": [
       "0.6337776686606853"
      ]
     },
     "execution_count": 24,
     "metadata": {},
     "output_type": "execute_result"
    }
   ],
   "source": [
    "test_score = lr.score(X_test, y_test)\n",
    "test_score"
   ]
  },
  {
   "cell_type": "markdown",
   "id": "9c145f5b",
   "metadata": {},
   "source": [
    "#### Note: Scaling\n",
    "- Usually necessary for methods that estimate coefficients (linear regression, SVM, neural networks).\n",
    "- Algorithms like decision trees (random forest, XGBoost) may not need it.\n",
    "- **Gotcha:** Careful to not amplify noise by accident (spectrometry, time series). Normalization might make things worse."
   ]
  },
  {
   "cell_type": "code",
   "execution_count": 25,
   "id": "a6412a6f",
   "metadata": {},
   "outputs": [],
   "source": [
    "from sklearn.preprocessing import StandardScaler, MinMaxScaler"
   ]
  },
  {
   "cell_type": "markdown",
   "id": "de9a3367",
   "metadata": {},
   "source": [
    "- Standard scaler: $x \\to \\frac{x-mean(x)}{std(x)}$\n",
    "- Min max scaler: $x \\to \\frac{x-min(x)}{max(x)-min(x)}$"
   ]
  },
  {
   "cell_type": "code",
   "execution_count": 26,
   "id": "5960d882",
   "metadata": {},
   "outputs": [],
   "source": [
    "scl = StandardScaler()"
   ]
  },
  {
   "cell_type": "code",
   "execution_count": 27,
   "id": "0ca652c4",
   "metadata": {},
   "outputs": [],
   "source": [
    "X_train_scl = scl.fit_transform(X_train)"
   ]
  },
  {
   "cell_type": "code",
   "execution_count": 28,
   "id": "8fd9e955",
   "metadata": {},
   "outputs": [
    {
     "data": {
      "text/html": [
       "<div>\n",
       "<style scoped>\n",
       "    .dataframe tbody tr th:only-of-type {\n",
       "        vertical-align: middle;\n",
       "    }\n",
       "\n",
       "    .dataframe tbody tr th {\n",
       "        vertical-align: top;\n",
       "    }\n",
       "\n",
       "    .dataframe thead th {\n",
       "        text-align: right;\n",
       "    }\n",
       "</style>\n",
       "<table border=\"1\" class=\"dataframe\">\n",
       "  <thead>\n",
       "    <tr style=\"text-align: right;\">\n",
       "      <th></th>\n",
       "      <th>longitude</th>\n",
       "      <th>latitude</th>\n",
       "      <th>housingMedianAge</th>\n",
       "      <th>totalRooms</th>\n",
       "      <th>totalBedrooms</th>\n",
       "      <th>population</th>\n",
       "      <th>households</th>\n",
       "      <th>medianIncome</th>\n",
       "    </tr>\n",
       "  </thead>\n",
       "  <tbody>\n",
       "    <tr>\n",
       "      <th>17595</th>\n",
       "      <td>-121.89</td>\n",
       "      <td>37.31</td>\n",
       "      <td>40.0</td>\n",
       "      <td>1844.0</td>\n",
       "      <td>340.0</td>\n",
       "      <td>719.0</td>\n",
       "      <td>305.0</td>\n",
       "      <td>3.3682</td>\n",
       "    </tr>\n",
       "    <tr>\n",
       "      <th>6073</th>\n",
       "      <td>-117.85</td>\n",
       "      <td>34.07</td>\n",
       "      <td>32.0</td>\n",
       "      <td>761.0</td>\n",
       "      <td>101.0</td>\n",
       "      <td>295.0</td>\n",
       "      <td>95.0</td>\n",
       "      <td>11.1077</td>\n",
       "    </tr>\n",
       "    <tr>\n",
       "      <th>6251</th>\n",
       "      <td>-117.97</td>\n",
       "      <td>34.04</td>\n",
       "      <td>32.0</td>\n",
       "      <td>1507.0</td>\n",
       "      <td>295.0</td>\n",
       "      <td>1326.0</td>\n",
       "      <td>324.0</td>\n",
       "      <td>4.1190</td>\n",
       "    </tr>\n",
       "    <tr>\n",
       "      <th>3161</th>\n",
       "      <td>-118.85</td>\n",
       "      <td>35.23</td>\n",
       "      <td>26.0</td>\n",
       "      <td>1639.0</td>\n",
       "      <td>352.0</td>\n",
       "      <td>1222.0</td>\n",
       "      <td>395.0</td>\n",
       "      <td>1.7656</td>\n",
       "    </tr>\n",
       "    <tr>\n",
       "      <th>1887</th>\n",
       "      <td>-119.98</td>\n",
       "      <td>38.92</td>\n",
       "      <td>27.0</td>\n",
       "      <td>2682.0</td>\n",
       "      <td>606.0</td>\n",
       "      <td>1010.0</td>\n",
       "      <td>399.0</td>\n",
       "      <td>3.1500</td>\n",
       "    </tr>\n",
       "  </tbody>\n",
       "</table>\n",
       "</div>"
      ],
      "text/plain": [
       "       longitude  latitude  housingMedianAge  totalRooms  totalBedrooms  \\\n",
       "17595    -121.89     37.31              40.0      1844.0          340.0   \n",
       "6073     -117.85     34.07              32.0       761.0          101.0   \n",
       "6251     -117.97     34.04              32.0      1507.0          295.0   \n",
       "3161     -118.85     35.23              26.0      1639.0          352.0   \n",
       "1887     -119.98     38.92              27.0      2682.0          606.0   \n",
       "\n",
       "       population  households  medianIncome  \n",
       "17595       719.0       305.0        3.3682  \n",
       "6073        295.0        95.0       11.1077  \n",
       "6251       1326.0       324.0        4.1190  \n",
       "3161       1222.0       395.0        1.7656  \n",
       "1887       1010.0       399.0        3.1500  "
      ]
     },
     "execution_count": 28,
     "metadata": {},
     "output_type": "execute_result"
    }
   ],
   "source": [
    "X_train.head()"
   ]
  },
  {
   "cell_type": "code",
   "execution_count": 29,
   "id": "c9340aea",
   "metadata": {},
   "outputs": [
    {
     "data": {
      "text/plain": [
       "array([[-1.16323975,  0.78779092,  0.90718721, -0.36476738, -0.47220801,\n",
       "        -0.62506657, -0.51037474, -0.26603632],\n",
       "       [ 0.85676443, -0.72922058,  0.26954227, -0.87116633, -1.04878141,\n",
       "        -1.00227238, -1.06724406,  3.79086582],\n",
       "       [ 0.79676431, -0.74326698,  0.26954227, -0.52234489, -0.58076785,\n",
       "        -0.08505731, -0.45999132,  0.12751909],\n",
       "       [ 0.3567634 , -0.186093  , -0.20869143, -0.46062313, -0.44325872,\n",
       "        -0.17757949, -0.27171646, -1.10608947],\n",
       "       [-0.20823777,  1.54161454, -0.12898582,  0.02707225,  0.1695013 ,\n",
       "        -0.36618239, -0.26110942, -0.38041271]])"
      ]
     },
     "execution_count": 29,
     "metadata": {},
     "output_type": "execute_result"
    }
   ],
   "source": [
    "X_train_scl[:5,:]"
   ]
  },
  {
   "cell_type": "markdown",
   "id": "9dab84df",
   "metadata": {},
   "source": [
    "**Important:** Transformations (scaling, feature extraction, etc) should be `fit_transform` on the *training* set and `transform` on the *test* set. That means, we apply the transformation created with the train set, never on the whole the data."
   ]
  },
  {
   "cell_type": "code",
   "execution_count": 30,
   "id": "a9056c6e",
   "metadata": {},
   "outputs": [],
   "source": [
    "X_test_scl = scl.transform(X_test)"
   ]
  },
  {
   "cell_type": "code",
   "execution_count": 31,
   "id": "1b80071a",
   "metadata": {},
   "outputs": [
    {
     "data": {
      "text/plain": [
       "array([[-1.43824032e+00,  1.01253337e+00,  1.86365462e+00,\n",
       "        -4.19942887e-01, -3.66060604e-01, -7.18478383e-01,\n",
       "        -3.75135044e-01, -1.01967535e-01],\n",
       "       [ 6.81764069e-01, -6.96445636e-01,  1.86365462e+00,\n",
       "         5.49836816e-01,  2.65998944e-01,  3.73995049e-01,\n",
       "         3.24929248e-01,  8.78880749e-01],\n",
       "       [-1.43824032e+00,  1.00785123e+00,  1.22600968e+00,\n",
       "        -5.04576506e-01, -4.86682655e-01, -7.65629110e-01,\n",
       "        -4.54687804e-01, -3.81174371e-04],\n",
       "       [ 1.19676514e+00, -1.32385163e+00, -6.86925138e-01,\n",
       "         9.48726641e-02,  4.40543698e-02,  3.56202322e-01,\n",
       "         1.02181519e-01, -2.12360143e-01],\n",
       "       [ 9.46764618e-01, -7.01127770e-01, -1.48398131e+00,\n",
       "         1.03756856e-01, -4.19134307e-01, -1.78469122e-01,\n",
       "        -3.77786802e-01,  2.01687863e+00]])"
      ]
     },
     "execution_count": 31,
     "metadata": {},
     "output_type": "execute_result"
    }
   ],
   "source": [
    "X_test_scl[:5,:]"
   ]
  },
  {
   "cell_type": "markdown",
   "id": "9945964b",
   "metadata": {},
   "source": [
    "#### Pipelines"
   ]
  },
  {
   "cell_type": "code",
   "execution_count": 32,
   "id": "06187402",
   "metadata": {},
   "outputs": [],
   "source": [
    "from sklearn.pipeline import make_pipeline"
   ]
  },
  {
   "cell_type": "code",
   "execution_count": 33,
   "id": "aca43397",
   "metadata": {},
   "outputs": [
    {
     "data": {
      "text/plain": [
       "Pipeline(steps=[('minmaxscaler', MinMaxScaler()),\n",
       "                ('linearregression', LinearRegression())])"
      ]
     },
     "execution_count": 33,
     "metadata": {},
     "output_type": "execute_result"
    }
   ],
   "source": [
    "pipe = make_pipeline(MinMaxScaler(), LinearRegression())\n",
    "pipe.fit(X_train, y_train)"
   ]
  },
  {
   "cell_type": "code",
   "execution_count": 34,
   "id": "371ea652",
   "metadata": {},
   "outputs": [
    {
     "data": {
      "text/plain": [
       "0.6379210375824909"
      ]
     },
     "execution_count": 34,
     "metadata": {},
     "output_type": "execute_result"
    }
   ],
   "source": [
    "pipe.score(X_train, y_train)"
   ]
  },
  {
   "cell_type": "code",
   "execution_count": 35,
   "id": "19760953",
   "metadata": {},
   "outputs": [
    {
     "data": {
      "text/plain": [
       "array([229065.52658457, 483538.06368199, 196808.74236844, ...,\n",
       "       242143.0112395 , 371263.49177575, 210065.78413585])"
      ]
     },
     "execution_count": 35,
     "metadata": {},
     "output_type": "execute_result"
    }
   ],
   "source": [
    "pipe.predict(X_train)"
   ]
  },
  {
   "cell_type": "code",
   "execution_count": 36,
   "id": "a9e01035",
   "metadata": {},
   "outputs": [
    {
     "data": {
      "text/plain": [
       "array([229065.52658459, 483538.063682  , 196808.74236844, ...,\n",
       "       242143.0112395 , 371263.49177576, 210065.78413584])"
      ]
     },
     "execution_count": 36,
     "metadata": {},
     "output_type": "execute_result"
    }
   ],
   "source": [
    "y_preds"
   ]
  },
  {
   "cell_type": "markdown",
   "id": "3dbaf37f",
   "metadata": {},
   "source": [
    "pipes = [pipe_lr, pipe_svm, pipe_custom]\n",
    "\n",
    "for pipe in pipes:\n",
    "    pipe.score()"
   ]
  },
  {
   "cell_type": "markdown",
   "id": "9849df1d",
   "metadata": {},
   "source": [
    "#### 4. Model validation and decide next steps"
   ]
  },
  {
   "cell_type": "code",
   "execution_count": 37,
   "id": "37906dad",
   "metadata": {},
   "outputs": [
    {
     "data": {
      "text/plain": [
       "0.6379210375824909"
      ]
     },
     "execution_count": 37,
     "metadata": {},
     "output_type": "execute_result"
    }
   ],
   "source": [
    "training_score"
   ]
  },
  {
   "cell_type": "code",
   "execution_count": 38,
   "id": "da44c652",
   "metadata": {},
   "outputs": [
    {
     "data": {
      "text/plain": [
       "0.6337776686606853"
      ]
     },
     "execution_count": 38,
     "metadata": {},
     "output_type": "execute_result"
    }
   ],
   "source": [
    "test_score"
   ]
  },
  {
   "cell_type": "markdown",
   "id": "ccdf54e0",
   "metadata": {},
   "source": [
    "**Parity plot**: Predicted values vs Observed values (usually in test set)."
   ]
  },
  {
   "cell_type": "code",
   "execution_count": 39,
   "id": "26060075",
   "metadata": {},
   "outputs": [],
   "source": [
    "observed = y_test.values\n",
    "predicted = pipe.predict(X_test)"
   ]
  },
  {
   "cell_type": "code",
   "execution_count": 40,
   "id": "04fff54e",
   "metadata": {},
   "outputs": [
    {
     "data": {
      "text/plain": [
       "array([500000., 293900., 412500., ..., 123200., 182600.,  68000.])"
      ]
     },
     "execution_count": 40,
     "metadata": {},
     "output_type": "execute_result"
    }
   ],
   "source": [
    "observed"
   ]
  },
  {
   "cell_type": "code",
   "execution_count": 41,
   "id": "2184c3ab",
   "metadata": {},
   "outputs": [
    {
     "data": {
      "text/plain": [
       "array([271168.00268447, 298956.67821155, 266428.33411919, ...,\n",
       "        83057.99650108, 256279.50451088, 137118.06914605])"
      ]
     },
     "execution_count": 41,
     "metadata": {},
     "output_type": "execute_result"
    }
   ],
   "source": [
    "predicted"
   ]
  },
  {
   "cell_type": "code",
   "execution_count": 42,
   "id": "8c51635e",
   "metadata": {},
   "outputs": [],
   "source": [
    "minval = min(min(observed), min(predicted))\n",
    "maxval = max(max(observed), max(predicted))"
   ]
  },
  {
   "cell_type": "code",
   "execution_count": 43,
   "id": "4241c1a9",
   "metadata": {},
   "outputs": [],
   "source": [
    "import numpy as np\n",
    "ref = np.linspace(minval, maxval, 100)"
   ]
  },
  {
   "cell_type": "code",
   "execution_count": 44,
   "id": "451f93f9",
   "metadata": {},
   "outputs": [
    {
     "data": {
      "text/plain": [
       "Text(0, 0.5, 'Predicted')"
      ]
     },
     "execution_count": 44,
     "metadata": {},
     "output_type": "execute_result"
    },
    {
     "data": {
      "image/png": "[encoded data removed]",
      "text/plain": [
       "<Figure size 432x288 with 1 Axes>"
      ]
     },
     "metadata": {
      "needs_background": "light"
     },
     "output_type": "display_data"
    }
   ],
   "source": [
    "plt.scatter(observed, predicted)\n",
    "plt.plot(ref, ref, 'r')\n",
    "plt.xlim(minval, maxval)\n",
    "plt.ylim(minval, maxval)\n",
    "plt.xlabel(\"Observed\")\n",
    "plt.ylabel(\"Predicted\")"
   ]
  },
  {
   "cell_type": "markdown",
   "id": "077f9101",
   "metadata": {},
   "source": [
    "#### Learning curve"
   ]
  },
  {
   "cell_type": "code",
   "execution_count": 45,
   "id": "7c651824",
   "metadata": {},
   "outputs": [],
   "source": [
    "from sklearn.model_selection import learning_curve"
   ]
  },
  {
   "cell_type": "code",
   "execution_count": 46,
   "id": "d21f2b96",
   "metadata": {},
   "outputs": [],
   "source": [
    "train_sizes, train_scores, test_scores = learning_curve(lr, X_train, y_train\n",
    "                                                        , cv=5\n",
    "                                                        , train_sizes=np.linspace(0.1, 1.0, 10))"
   ]
  },
  {
   "cell_type": "code",
   "execution_count": 47,
   "id": "8bdf86b6",
   "metadata": {},
   "outputs": [
    {
     "data": {
      "text/plain": [
       "array([[0.66715651, 0.62465628, 0.62465628, 0.62465628, 0.62465628],\n",
       "       [0.6504285 , 0.64381482, 0.64381482, 0.64381482, 0.64381482],\n",
       "       [0.6437297 , 0.64229279, 0.65167106, 0.65167106, 0.65167106],\n",
       "       [0.63401277, 0.63373505, 0.64893554, 0.64893554, 0.64893554],\n",
       "       [0.63537014, 0.63527825, 0.64681476, 0.64681476, 0.64681476],\n",
       "       [0.63150836, 0.63138663, 0.64101532, 0.64248871, 0.64248871],\n",
       "       [0.63092285, 0.63085275, 0.63906086, 0.63870455, 0.63870455],\n",
       "       [0.63087085, 0.63082563, 0.63836839, 0.63607953, 0.63786309],\n",
       "       [0.63457912, 0.63451553, 0.64102574, 0.63913927, 0.63460831],\n",
       "       [0.63611293, 0.63608762, 0.64197705, 0.64019573, 0.63597253]])"
      ]
     },
     "execution_count": 47,
     "metadata": {},
     "output_type": "execute_result"
    }
   ],
   "source": [
    "train_scores # Error on each cross-validation fold ()"
   ]
  },
  {
   "cell_type": "code",
   "execution_count": 48,
   "id": "2c3d930c",
   "metadata": {},
   "outputs": [
    {
     "data": {
      "text/plain": [
       "array([ 1320,  2641,  3962,  5283,  6604,  7925,  9246, 10567, 11888,\n",
       "       13209])"
      ]
     },
     "execution_count": 48,
     "metadata": {},
     "output_type": "execute_result"
    }
   ],
   "source": [
    "train_sizes"
   ]
  },
  {
   "cell_type": "code",
   "execution_count": 49,
   "id": "86adba3b",
   "metadata": {},
   "outputs": [],
   "source": [
    "train_scores_cv = np.mean(train_scores, axis=1)\n",
    "test_scores_cv = np.mean(test_scores, axis=1)"
   ]
  },
  {
   "cell_type": "code",
   "execution_count": 50,
   "id": "365edbc0",
   "metadata": {},
   "outputs": [
    {
     "data": {
      "text/plain": [
       "Text(0, 0.5, 'R2 score')"
      ]
     },
     "execution_count": 50,
     "metadata": {},
     "output_type": "execute_result"
    },
    {
     "data": {
      "image/png": "[encoded data removed]",
      "text/plain": [
       "<Figure size 432x288 with 1 Axes>"
      ]
     },
     "metadata": {
      "needs_background": "light"
     },
     "output_type": "display_data"
    }
   ],
   "source": [
    "plt.plot(train_sizes, train_scores_cv, label='Training score', color='r')\n",
    "plt.plot(train_sizes, test_scores_cv, label='Testing score', color='b')\n",
    "plt.legend(loc='best')\n",
    "plt.xlabel(\"# training examples\")\n",
    "plt.ylabel(\"R2 score\")"
   ]
  },
  {
   "cell_type": "code",
   "execution_count": null,
   "id": "b51bd4d9",
   "metadata": {},
   "outputs": [],
   "source": []
  }
 ],
 "metadata": {
  "kernelspec": {
   "display_name": "Python 3 (ipykernel)",
   "language": "python",
   "name": "python3"
  },
  "language_info": {
   "codemirror_mode": {
    "name": "ipython",
    "version": 3
   },
   "file_extension": ".py",
   "mimetype": "text/x-python",
   "name": "python",
   "nbconvert_exporter": "python",
   "pygments_lexer": "ipython3",
   "version": "3.9.4"
  }
 },
 "nbformat": 4,
 "nbformat_minor": 5
}
