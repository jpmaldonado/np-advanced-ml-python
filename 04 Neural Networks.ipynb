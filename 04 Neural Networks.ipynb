{
 "cells": [
  {
   "cell_type": "code",
   "execution_count": 1,
   "id": "cc188689",
   "metadata": {},
   "outputs": [],
   "source": [
    "import matplotlib.pyplot as plt\n",
    "from tensorflow import keras\n",
    "from sklearn.datasets import load_digits"
   ]
  },
  {
   "cell_type": "code",
   "execution_count": 2,
   "id": "3a27830c",
   "metadata": {},
   "outputs": [],
   "source": [
    "# KERAS DOCUMENTATION TO ENSURE REPRODUCIBLE RESULTS\n",
    "# https://keras.io/getting_started/faq/#how-can-i-obtain-reproducible-results-using-keras-during-development\n",
    "\n",
    "import numpy as np\n",
    "import tensorflow as tf\n",
    "import random as python_random\n",
    "\n",
    "# The below is necessary for starting Numpy generated random numbers\n",
    "# in a well-defined initial state.\n",
    "np.random.seed(123)\n",
    "\n",
    "# The below is necessary for starting core Python generated random numbers\n",
    "# in a well-defined state.\n",
    "python_random.seed(123)\n",
    "\n",
    "# The below set_seed() will make random number generation\n",
    "# in the TensorFlow backend have a well-defined initial state.\n",
    "# For further details, see:\n",
    "# https://www.tensorflow.org/api_docs/python/tf/random/set_seed\n",
    "tf.random.set_seed(1234)"
   ]
  },
  {
   "cell_type": "code",
   "execution_count": 3,
   "id": "c752280e",
   "metadata": {},
   "outputs": [],
   "source": [
    "X, y = load_digits(return_X_y=True)"
   ]
  },
  {
   "cell_type": "code",
   "execution_count": 4,
   "id": "239d870c",
   "metadata": {},
   "outputs": [
    {
     "data": {
      "text/plain": [
       "array([0.        , 0.        , 0.        , 0.04705882, 0.05098039,\n",
       "       0.01960784, 0.        , 0.        , 0.        , 0.        ,\n",
       "       0.        , 0.04313725, 0.0627451 , 0.03529412, 0.        ,\n",
       "       0.        , 0.        , 0.        , 0.01176471, 0.05882353,\n",
       "       0.0627451 , 0.02352941, 0.        , 0.        , 0.        ,\n",
       "       0.02745098, 0.05882353, 0.0627451 , 0.0627451 , 0.00784314,\n",
       "       0.        , 0.        , 0.        , 0.        , 0.00392157,\n",
       "       0.0627451 , 0.0627451 , 0.01176471, 0.        , 0.        ,\n",
       "       0.        , 0.        , 0.00392157, 0.0627451 , 0.0627451 ,\n",
       "       0.02352941, 0.        , 0.        , 0.        , 0.        ,\n",
       "       0.00392157, 0.0627451 , 0.0627451 , 0.02352941, 0.        ,\n",
       "       0.        , 0.        , 0.        , 0.        , 0.04313725,\n",
       "       0.0627451 , 0.03921569, 0.        , 0.        ])"
      ]
     },
     "execution_count": 4,
     "metadata": {},
     "output_type": "execute_result"
    }
   ],
   "source": [
    "X[1]/255"
   ]
  },
  {
   "cell_type": "code",
   "execution_count": 5,
   "id": "e5e06c15",
   "metadata": {},
   "outputs": [
    {
     "data": {
      "text/plain": [
       "<matplotlib.image.AxesImage at 0x261c7fd0ac0>"
      ]
     },
     "execution_count": 5,
     "metadata": {},
     "output_type": "execute_result"
    },
    {
     "data": {
      "image/png": "[encoded data removed]",
      "text/plain": [
       "<Figure size 432x288 with 1 Axes>"
      ]
     },
     "metadata": {
      "needs_background": "light"
     },
     "output_type": "display_data"
    }
   ],
   "source": [
    "plt.imshow(X[1].reshape(8,8)/255, cmap='gray')"
   ]
  },
  {
   "cell_type": "code",
   "execution_count": 6,
   "id": "958acded",
   "metadata": {},
   "outputs": [
    {
     "data": {
      "text/plain": [
       "0"
      ]
     },
     "execution_count": 6,
     "metadata": {},
     "output_type": "execute_result"
    }
   ],
   "source": [
    "y[0]"
   ]
  },
  {
   "cell_type": "code",
   "execution_count": 7,
   "id": "4bfb92cb",
   "metadata": {},
   "outputs": [],
   "source": [
    "from sklearn.model_selection import train_test_split"
   ]
  },
  {
   "cell_type": "code",
   "execution_count": 8,
   "id": "98485034",
   "metadata": {},
   "outputs": [],
   "source": [
    "X_train, X_test, y_train, y_test = train_test_split(X,y, random_state=1234, train_size=0.8)"
   ]
  },
  {
   "cell_type": "code",
   "execution_count": 9,
   "id": "e43a396c",
   "metadata": {},
   "outputs": [],
   "source": [
    "from keras.models import Sequential\n",
    "from keras.layers import Dense"
   ]
  },
  {
   "cell_type": "code",
   "execution_count": 10,
   "id": "64d7fce5",
   "metadata": {},
   "outputs": [],
   "source": [
    "model = Sequential([\n",
    "                Dense(4, input_shape=(64,), activation='sigmoid'),\n",
    "                #Dense(4, activation='relu'),\n",
    "                Dense(10, activation='softmax') # 0-9 digits (10 classes). With softmax we calculate class probabilities\n",
    "])"
   ]
  },
  {
   "cell_type": "code",
   "execution_count": 11,
   "id": "9410da0b",
   "metadata": {},
   "outputs": [
    {
     "name": "stdout",
     "output_type": "stream",
     "text": [
      "Model: \"sequential\"\n",
      "_________________________________________________________________\n",
      "Layer (type)                 Output Shape              Param #   \n",
      "=================================================================\n",
      "dense (Dense)                (None, 4)                 260       \n",
      "_________________________________________________________________\n",
      "dense_1 (Dense)              (None, 10)                50        \n",
      "=================================================================\n",
      "Total params: 310\n",
      "Trainable params: 310\n",
      "Non-trainable params: 0\n",
      "_________________________________________________________________\n"
     ]
    }
   ],
   "source": [
    "model.summary()"
   ]
  },
  {
   "cell_type": "markdown",
   "id": "bee41729",
   "metadata": {},
   "source": [
    "#### Compile model "
   ]
  },
  {
   "cell_type": "code",
   "execution_count": 12,
   "id": "08226dc4",
   "metadata": {},
   "outputs": [],
   "source": [
    "model.compile(\n",
    "            loss='sparse_categorical_crossentropy' # loss function for multi-class classification\n",
    "            , metrics = ['accuracy'] \n",
    "             )"
   ]
  },
  {
   "cell_type": "code",
   "execution_count": 13,
   "id": "49ff49ad",
   "metadata": {},
   "outputs": [
    {
     "name": "stdout",
     "output_type": "stream",
     "text": [
      "Epoch 1/50\n",
      "41/41 [==============================] - 0s 4ms/step - loss: 2.3796 - accuracy: 0.1029 - val_loss: 2.3160 - val_accuracy: 0.1319\n",
      "Epoch 2/50\n",
      "41/41 [==============================] - 0s 1ms/step - loss: 2.3146 - accuracy: 0.1493 - val_loss: 2.2830 - val_accuracy: 0.1250\n",
      "Epoch 3/50\n",
      "41/41 [==============================] - 0s 1ms/step - loss: 2.2790 - accuracy: 0.1585 - val_loss: 2.2542 - val_accuracy: 0.1667\n",
      "Epoch 4/50\n",
      "41/41 [==============================] - 0s 1ms/step - loss: 2.2473 - accuracy: 0.1585 - val_loss: 2.2264 - val_accuracy: 0.1528\n",
      "Epoch 5/50\n",
      "41/41 [==============================] - 0s 1ms/step - loss: 2.2115 - accuracy: 0.1740 - val_loss: 2.1953 - val_accuracy: 0.2083\n",
      "Epoch 6/50\n",
      "41/41 [==============================] - 0s 1ms/step - loss: 2.1644 - accuracy: 0.2776 - val_loss: 2.1157 - val_accuracy: 0.3403\n",
      "Epoch 7/50\n",
      "41/41 [==============================] - 0s 1ms/step - loss: 2.1167 - accuracy: 0.3411 - val_loss: 2.0790 - val_accuracy: 0.3611\n",
      "Epoch 8/50\n",
      "41/41 [==============================] - 0s 1ms/step - loss: 2.0812 - accuracy: 0.3728 - val_loss: 2.0493 - val_accuracy: 0.3958\n",
      "Epoch 9/50\n",
      "41/41 [==============================] - 0s 1ms/step - loss: 2.0502 - accuracy: 0.3906 - val_loss: 2.0216 - val_accuracy: 0.4028\n",
      "Epoch 10/50\n",
      "41/41 [==============================] - 0s 1ms/step - loss: 2.0219 - accuracy: 0.4029 - val_loss: 1.9995 - val_accuracy: 0.4097\n",
      "Epoch 11/50\n",
      "41/41 [==============================] - 0s 1ms/step - loss: 1.9964 - accuracy: 0.4161 - val_loss: 1.9740 - val_accuracy: 0.3889\n",
      "Epoch 12/50\n",
      "41/41 [==============================] - 0s 1ms/step - loss: 1.9716 - accuracy: 0.4285 - val_loss: 1.9540 - val_accuracy: 0.4028\n",
      "Epoch 13/50\n",
      "41/41 [==============================] - 0s 1ms/step - loss: 1.9478 - accuracy: 0.4254 - val_loss: 1.9312 - val_accuracy: 0.4028\n",
      "Epoch 14/50\n",
      "41/41 [==============================] - 0s 1ms/step - loss: 1.9256 - accuracy: 0.4362 - val_loss: 1.9151 - val_accuracy: 0.3958\n",
      "Epoch 15/50\n",
      "41/41 [==============================] - 0s 1ms/step - loss: 1.9038 - accuracy: 0.4292 - val_loss: 1.8941 - val_accuracy: 0.4097\n",
      "Epoch 16/50\n",
      "41/41 [==============================] - 0s 1ms/step - loss: 1.8819 - accuracy: 0.4246 - val_loss: 1.8697 - val_accuracy: 0.4306\n",
      "Epoch 17/50\n",
      "41/41 [==============================] - 0s 1ms/step - loss: 1.8621 - accuracy: 0.4362 - val_loss: 1.8503 - val_accuracy: 0.4306\n",
      "Epoch 18/50\n",
      "41/41 [==============================] - 0s 1ms/step - loss: 1.8411 - accuracy: 0.4377 - val_loss: 1.8277 - val_accuracy: 0.4931\n",
      "Epoch 19/50\n",
      "41/41 [==============================] - 0s 1ms/step - loss: 1.8208 - accuracy: 0.4725 - val_loss: 1.8095 - val_accuracy: 0.5069\n",
      "Epoch 20/50\n",
      "41/41 [==============================] - 0s 1ms/step - loss: 1.7987 - accuracy: 0.4633 - val_loss: 1.7962 - val_accuracy: 0.4931\n",
      "Epoch 21/50\n",
      "41/41 [==============================] - 0s 1ms/step - loss: 1.7791 - accuracy: 0.4872 - val_loss: 1.7662 - val_accuracy: 0.5139\n",
      "Epoch 22/50\n",
      "41/41 [==============================] - 0s 1ms/step - loss: 1.7578 - accuracy: 0.4888 - val_loss: 1.7520 - val_accuracy: 0.5139\n",
      "Epoch 23/50\n",
      "41/41 [==============================] - 0s 1ms/step - loss: 1.7373 - accuracy: 0.4911 - val_loss: 1.7285 - val_accuracy: 0.5208\n",
      "Epoch 24/50\n",
      "41/41 [==============================] - 0s 1ms/step - loss: 1.7175 - accuracy: 0.5027 - val_loss: 1.7084 - val_accuracy: 0.5139\n",
      "Epoch 25/50\n",
      "41/41 [==============================] - 0s 1ms/step - loss: 1.6957 - accuracy: 0.5019 - val_loss: 1.6932 - val_accuracy: 0.5278\n",
      "Epoch 26/50\n",
      "41/41 [==============================] - 0s 1ms/step - loss: 1.6771 - accuracy: 0.5019 - val_loss: 1.6662 - val_accuracy: 0.5347\n",
      "Epoch 27/50\n",
      "41/41 [==============================] - 0s 1ms/step - loss: 1.6576 - accuracy: 0.5104 - val_loss: 1.6534 - val_accuracy: 0.5347\n",
      "Epoch 28/50\n",
      "41/41 [==============================] - 0s 1ms/step - loss: 1.6382 - accuracy: 0.5143 - val_loss: 1.6331 - val_accuracy: 0.5347\n",
      "Epoch 29/50\n",
      "41/41 [==============================] - 0s 1ms/step - loss: 1.6185 - accuracy: 0.5391 - val_loss: 1.6066 - val_accuracy: 0.6111\n",
      "Epoch 30/50\n",
      "41/41 [==============================] - 0s 1ms/step - loss: 1.5993 - accuracy: 0.5770 - val_loss: 1.5894 - val_accuracy: 0.6111\n",
      "Epoch 31/50\n",
      "41/41 [==============================] - 0s 1ms/step - loss: 1.5799 - accuracy: 0.5862 - val_loss: 1.5704 - val_accuracy: 0.6250\n",
      "Epoch 32/50\n",
      "41/41 [==============================] - 0s 1ms/step - loss: 1.5606 - accuracy: 0.5870 - val_loss: 1.5435 - val_accuracy: 0.6528\n",
      "Epoch 33/50\n",
      "41/41 [==============================] - 0s 1ms/step - loss: 1.5411 - accuracy: 0.5909 - val_loss: 1.5257 - val_accuracy: 0.6250\n",
      "Epoch 34/50\n",
      "41/41 [==============================] - 0s 1ms/step - loss: 1.5228 - accuracy: 0.5855 - val_loss: 1.5094 - val_accuracy: 0.6250\n",
      "Epoch 35/50\n",
      "41/41 [==============================] - 0s 1ms/step - loss: 1.5053 - accuracy: 0.5870 - val_loss: 1.4833 - val_accuracy: 0.6389\n",
      "Epoch 36/50\n",
      "41/41 [==============================] - 0s 1ms/step - loss: 1.4877 - accuracy: 0.5909 - val_loss: 1.4687 - val_accuracy: 0.6458\n",
      "Epoch 37/50\n",
      "41/41 [==============================] - 0s 1ms/step - loss: 1.4699 - accuracy: 0.5994 - val_loss: 1.4449 - val_accuracy: 0.6389\n",
      "Epoch 38/50\n",
      "41/41 [==============================] - ETA: 0s - loss: 1.5541 - accuracy: 0.53 - 0s 1ms/step - loss: 1.4546 - accuracy: 0.5924 - val_loss: 1.4297 - val_accuracy: 0.6458\n",
      "Epoch 39/50\n",
      "41/41 [==============================] - 0s 1ms/step - loss: 1.4373 - accuracy: 0.5978 - val_loss: 1.4150 - val_accuracy: 0.6319\n",
      "Epoch 40/50\n",
      "41/41 [==============================] - 0s 1ms/step - loss: 1.4215 - accuracy: 0.6002 - val_loss: 1.3970 - val_accuracy: 0.6528\n",
      "Epoch 41/50\n",
      "41/41 [==============================] - 0s 1ms/step - loss: 1.4062 - accuracy: 0.6009 - val_loss: 1.3872 - val_accuracy: 0.6458\n",
      "Epoch 42/50\n",
      "41/41 [==============================] - 0s 1ms/step - loss: 1.3913 - accuracy: 0.6063 - val_loss: 1.3692 - val_accuracy: 0.6458\n",
      "Epoch 43/50\n",
      "41/41 [==============================] - 0s 1ms/step - loss: 1.3752 - accuracy: 0.6063 - val_loss: 1.3499 - val_accuracy: 0.6528\n",
      "Epoch 44/50\n",
      "41/41 [==============================] - 0s 1ms/step - loss: 1.3616 - accuracy: 0.6071 - val_loss: 1.3378 - val_accuracy: 0.6458\n",
      "Epoch 45/50\n",
      "41/41 [==============================] - 0s 1ms/step - loss: 1.3470 - accuracy: 0.6094 - val_loss: 1.3222 - val_accuracy: 0.6458\n",
      "Epoch 46/50\n",
      "41/41 [==============================] - 0s 1ms/step - loss: 1.3323 - accuracy: 0.6141 - val_loss: 1.3055 - val_accuracy: 0.6458\n",
      "Epoch 47/50\n",
      "41/41 [==============================] - 0s 1ms/step - loss: 1.3184 - accuracy: 0.6148 - val_loss: 1.2963 - val_accuracy: 0.6597\n",
      "Epoch 48/50\n",
      "41/41 [==============================] - ETA: 0s - loss: 1.2631 - accuracy: 0.71 - 0s 1ms/step - loss: 1.3053 - accuracy: 0.6094 - val_loss: 1.2856 - val_accuracy: 0.6597\n",
      "Epoch 49/50\n",
      "41/41 [==============================] - 0s 1ms/step - loss: 1.2908 - accuracy: 0.6156 - val_loss: 1.2703 - val_accuracy: 0.6528\n",
      "Epoch 50/50\n",
      "41/41 [==============================] - 0s 1ms/step - loss: 1.2787 - accuracy: 0.6195 - val_loss: 1.2552 - val_accuracy: 0.6458\n"
     ]
    }
   ],
   "source": [
    "history = model.fit(X_train,y_train, epochs=50, validation_split = 0.1)"
   ]
  },
  {
   "cell_type": "code",
   "execution_count": 41,
   "id": "76478f9a",
   "metadata": {},
   "outputs": [],
   "source": [
    "def plot_learning_curve(history):\n",
    "    plt.plot(history.history['accuracy'], label='Train accuracy')\n",
    "    plt.plot(history.history['val_accuracy'], label='Val accuracy')\n",
    "    plt.xlabel(\"Number of epochs\")\n",
    "    plt.ylabel(\"Accuracy\")\n",
    "    plt.legend(loc='best')"
   ]
  },
  {
   "cell_type": "code",
   "execution_count": 42,
   "id": "8c032dbc",
   "metadata": {},
   "outputs": [
    {
     "data": {
      "image/png": "[encoded data removed]",
      "text/plain": [
       "<Figure size 432x288 with 1 Axes>"
      ]
     },
     "metadata": {
      "needs_background": "light"
     },
     "output_type": "display_data"
    }
   ],
   "source": [
    "plot_learning_curve(history)"
   ]
  },
  {
   "cell_type": "code",
   "execution_count": 15,
   "id": "fa93344b",
   "metadata": {},
   "outputs": [
    {
     "data": {
      "text/plain": [
       "7"
      ]
     },
     "execution_count": 15,
     "metadata": {},
     "output_type": "execute_result"
    }
   ],
   "source": [
    "np.argmax(model.predict(X_test)[0])"
   ]
  },
  {
   "cell_type": "code",
   "execution_count": 16,
   "id": "dda4a72f",
   "metadata": {},
   "outputs": [
    {
     "data": {
      "text/plain": [
       "7"
      ]
     },
     "execution_count": 16,
     "metadata": {},
     "output_type": "execute_result"
    }
   ],
   "source": [
    "y_test[0]"
   ]
  },
  {
   "cell_type": "code",
   "execution_count": 17,
   "id": "c56752a9",
   "metadata": {},
   "outputs": [
    {
     "data": {
      "text/plain": [
       "<BarContainer object of 10 artists>"
      ]
     },
     "execution_count": 17,
     "metadata": {},
     "output_type": "execute_result"
    },
    {
     "data": {
      "image/png": "[encoded data removed]",
      "text/plain": [
       "<Figure size 432x288 with 1 Axes>"
      ]
     },
     "metadata": {
      "needs_background": "light"
     },
     "output_type": "display_data"
    }
   ],
   "source": [
    "plt.bar(x=[0,1,2,3,4,5,6,7,8,9], height=model.predict(X_test)[0])"
   ]
  },
  {
   "cell_type": "code",
   "execution_count": 18,
   "id": "e7b39507",
   "metadata": {},
   "outputs": [],
   "source": [
    "from sklearn.metrics import confusion_matrix"
   ]
  },
  {
   "cell_type": "code",
   "execution_count": 19,
   "id": "5a463d5f",
   "metadata": {},
   "outputs": [],
   "source": [
    "y_probas = model.predict(X_test)\n",
    "y_preds = np.argmax(y_probas, axis=1)"
   ]
  },
  {
   "cell_type": "code",
   "execution_count": 20,
   "id": "221b072f",
   "metadata": {},
   "outputs": [
    {
     "data": {
      "text/plain": [
       "array([[25,  0,  0,  0,  0,  0,  3,  0,  0,  0],\n",
       "       [ 0, 32,  4,  0,  0,  0,  0,  2,  1,  1],\n",
       "       [ 0,  1, 37,  0,  0,  0,  0,  0,  0,  0],\n",
       "       [ 2,  1,  0, 32,  0,  0,  1,  0,  0,  0],\n",
       "       [ 0,  3,  0,  0,  1,  0,  5, 35,  0,  0],\n",
       "       [ 0,  0,  0, 37,  0,  0,  0,  0,  0,  4],\n",
       "       [ 0,  0,  2,  0,  1,  0, 30,  0,  0,  0],\n",
       "       [ 0,  0,  0,  0,  4,  0,  0, 28,  0,  2],\n",
       "       [ 0, 20,  1,  3,  2,  0,  1,  3,  0,  2],\n",
       "       [ 2,  0,  0,  6,  0,  0,  0,  1,  0, 25]], dtype=int64)"
      ]
     },
     "execution_count": 20,
     "metadata": {},
     "output_type": "execute_result"
    }
   ],
   "source": [
    "confusion_matrix(y_test, y_preds)"
   ]
  },
  {
   "cell_type": "markdown",
   "id": "b49ba83b",
   "metadata": {},
   "source": [
    "## Convolutional Neural Networks"
   ]
  },
  {
   "cell_type": "code",
   "execution_count": 47,
   "id": "b87d8b36",
   "metadata": {},
   "outputs": [],
   "source": [
    "from keras.layers import Conv2D, MaxPool2D, Dropout, Flatten"
   ]
  },
  {
   "cell_type": "code",
   "execution_count": 59,
   "id": "db1e0ce0",
   "metadata": {},
   "outputs": [],
   "source": [
    "cnn_model = Sequential([\n",
    "    Conv2D(filters=4, kernel_size=3, input_shape=(8,8,1)) #input_shape: (width, height, depth)\n",
    "    , MaxPool2D(pool_size=2)\n",
    "    , Flatten()\n",
    "    #, Dropout(0.2) # Helpful in case of overfitting\n",
    "    , Dense(10, activation='softmax') # Predict probabilities\n",
    "])"
   ]
  },
  {
   "cell_type": "code",
   "execution_count": 60,
   "id": "e11f52ce",
   "metadata": {},
   "outputs": [
    {
     "name": "stdout",
     "output_type": "stream",
     "text": [
      "Model: \"sequential_4\"\n",
      "_________________________________________________________________\n",
      "Layer (type)                 Output Shape              Param #   \n",
      "=================================================================\n",
      "conv2d_3 (Conv2D)            (None, 6, 6, 4)           40        \n",
      "_________________________________________________________________\n",
      "max_pooling2d_3 (MaxPooling2 (None, 3, 3, 4)           0         \n",
      "_________________________________________________________________\n",
      "flatten_2 (Flatten)          (None, 36)                0         \n",
      "_________________________________________________________________\n",
      "dense_5 (Dense)              (None, 10)                370       \n",
      "=================================================================\n",
      "Total params: 410\n",
      "Trainable params: 410\n",
      "Non-trainable params: 0\n",
      "_________________________________________________________________\n"
     ]
    }
   ],
   "source": [
    "cnn_model.summary()"
   ]
  },
  {
   "cell_type": "code",
   "execution_count": 61,
   "id": "d56a62ad",
   "metadata": {},
   "outputs": [],
   "source": [
    "cnn_model.compile(loss='sparse_categorical_crossentropy', metrics=['accuracy'])"
   ]
  },
  {
   "cell_type": "code",
   "execution_count": 62,
   "id": "708cabe7",
   "metadata": {},
   "outputs": [],
   "source": [
    "X_train_cnn = X_train.reshape(-1,8,8,1)"
   ]
  },
  {
   "cell_type": "code",
   "execution_count": 63,
   "id": "6de00ede",
   "metadata": {},
   "outputs": [
    {
     "data": {
      "text/plain": [
       "(1437, 8, 8, 1)"
      ]
     },
     "execution_count": 63,
     "metadata": {},
     "output_type": "execute_result"
    }
   ],
   "source": [
    "X_train_cnn.shape"
   ]
  },
  {
   "cell_type": "code",
   "execution_count": 64,
   "id": "ed829795",
   "metadata": {},
   "outputs": [
    {
     "data": {
      "text/plain": [
       "(1437, 64)"
      ]
     },
     "execution_count": 64,
     "metadata": {},
     "output_type": "execute_result"
    }
   ],
   "source": [
    "X_train.shape"
   ]
  },
  {
   "cell_type": "code",
   "execution_count": 65,
   "id": "8359e892",
   "metadata": {},
   "outputs": [
    {
     "name": "stdout",
     "output_type": "stream",
     "text": [
      "Epoch 1/20\n",
      "41/41 [==============================] - 1s 9ms/step - loss: 5.8322 - accuracy: 0.1817 - val_loss: 4.5880 - val_accuracy: 0.1458\n",
      "Epoch 2/20\n",
      "41/41 [==============================] - 0s 5ms/step - loss: 3.3222 - accuracy: 0.2266 - val_loss: 2.8296 - val_accuracy: 0.2014\n",
      "Epoch 3/20\n",
      "41/41 [==============================] - 0s 6ms/step - loss: 2.1918 - accuracy: 0.3465 - val_loss: 1.9227 - val_accuracy: 0.4306\n",
      "Epoch 4/20\n",
      "41/41 [==============================] - 0s 6ms/step - loss: 1.5729 - accuracy: 0.4888 - val_loss: 1.3581 - val_accuracy: 0.5069\n",
      "Epoch 5/20\n",
      "41/41 [==============================] - 0s 6ms/step - loss: 1.1692 - accuracy: 0.5909 - val_loss: 0.9784 - val_accuracy: 0.6458\n",
      "Epoch 6/20\n",
      "41/41 [==============================] - 0s 5ms/step - loss: 0.8790 - accuracy: 0.6945 - val_loss: 0.6919 - val_accuracy: 0.7639\n",
      "Epoch 7/20\n",
      "41/41 [==============================] - 0s 5ms/step - loss: 0.6710 - accuracy: 0.7827 - val_loss: 0.5134 - val_accuracy: 0.8542\n",
      "Epoch 8/20\n",
      "41/41 [==============================] - 0s 5ms/step - loss: 0.5307 - accuracy: 0.8461 - val_loss: 0.3956 - val_accuracy: 0.9097\n",
      "Epoch 9/20\n",
      "41/41 [==============================] - 0s 5ms/step - loss: 0.4335 - accuracy: 0.8801 - val_loss: 0.3174 - val_accuracy: 0.9375\n",
      "Epoch 10/20\n",
      "41/41 [==============================] - 0s 5ms/step - loss: 0.3670 - accuracy: 0.9002 - val_loss: 0.2764 - val_accuracy: 0.9444\n",
      "Epoch 11/20\n",
      "41/41 [==============================] - 0s 6ms/step - loss: 0.3184 - accuracy: 0.9157 - val_loss: 0.2341 - val_accuracy: 0.9514\n",
      "Epoch 12/20\n",
      "41/41 [==============================] - 0s 6ms/step - loss: 0.2805 - accuracy: 0.9281 - val_loss: 0.2320 - val_accuracy: 0.9444\n",
      "Epoch 13/20\n",
      "41/41 [==============================] - 0s 6ms/step - loss: 0.2539 - accuracy: 0.9319 - val_loss: 0.1864 - val_accuracy: 0.9583\n",
      "Epoch 14/20\n",
      "41/41 [==============================] - 0s 5ms/step - loss: 0.2288 - accuracy: 0.9404 - val_loss: 0.1817 - val_accuracy: 0.9514\n",
      "Epoch 15/20\n",
      "41/41 [==============================] - 0s 6ms/step - loss: 0.2119 - accuracy: 0.9474 - val_loss: 0.1674 - val_accuracy: 0.9444\n",
      "Epoch 16/20\n",
      "41/41 [==============================] - 0s 6ms/step - loss: 0.1956 - accuracy: 0.9474 - val_loss: 0.1559 - val_accuracy: 0.9444\n",
      "Epoch 17/20\n",
      "41/41 [==============================] - 0s 6ms/step - loss: 0.1843 - accuracy: 0.9520 - val_loss: 0.1474 - val_accuracy: 0.9444\n",
      "Epoch 18/20\n",
      "41/41 [==============================] - 0s 6ms/step - loss: 0.1711 - accuracy: 0.9551 - val_loss: 0.1486 - val_accuracy: 0.9444\n",
      "Epoch 19/20\n",
      "41/41 [==============================] - 0s 6ms/step - loss: 0.1620 - accuracy: 0.9582 - val_loss: 0.1112 - val_accuracy: 0.9514\n",
      "Epoch 20/20\n",
      "41/41 [==============================] - 0s 6ms/step - loss: 0.1514 - accuracy: 0.9637 - val_loss: 0.1132 - val_accuracy: 0.9583\n"
     ]
    }
   ],
   "source": [
    "cnn_history = cnn_model.fit(X_train_cnn, y_train, epochs=20, validation_split=0.1)"
   ]
  },
  {
   "cell_type": "code",
   "execution_count": 66,
   "id": "b083f4c9",
   "metadata": {},
   "outputs": [
    {
     "data": {
      "image/png": "[encoded data removed]",
      "text/plain": [
       "<Figure size 432x288 with 1 Axes>"
      ]
     },
     "metadata": {
      "needs_background": "light"
     },
     "output_type": "display_data"
    }
   ],
   "source": [
    "plot_learning_curve(cnn_history)"
   ]
  },
  {
   "cell_type": "code",
   "execution_count": 44,
   "id": "b623e62f",
   "metadata": {},
   "outputs": [
    {
     "data": {
      "image/png": "[encoded data removed]",
      "text/plain": [
       "<Figure size 432x288 with 1 Axes>"
      ]
     },
     "metadata": {
      "needs_background": "light"
     },
     "output_type": "display_data"
    }
   ],
   "source": [
    "plot_learning_curve(history)"
   ]
  },
  {
   "cell_type": "code",
   "execution_count": 45,
   "id": "0eeeef3e",
   "metadata": {},
   "outputs": [
    {
     "name": "stdout",
     "output_type": "stream",
     "text": [
      "Model: \"sequential\"\n",
      "_________________________________________________________________\n",
      "Layer (type)                 Output Shape              Param #   \n",
      "=================================================================\n",
      "dense (Dense)                (None, 4)                 260       \n",
      "_________________________________________________________________\n",
      "dense_1 (Dense)              (None, 10)                50        \n",
      "=================================================================\n",
      "Total params: 310\n",
      "Trainable params: 310\n",
      "Non-trainable params: 0\n",
      "_________________________________________________________________\n"
     ]
    }
   ],
   "source": [
    "model.summary()"
   ]
  },
  {
   "cell_type": "code",
   "execution_count": 46,
   "id": "937b6998",
   "metadata": {},
   "outputs": [
    {
     "name": "stdout",
     "output_type": "stream",
     "text": [
      "Model: \"sequential_2\"\n",
      "_________________________________________________________________\n",
      "Layer (type)                 Output Shape              Param #   \n",
      "=================================================================\n",
      "conv2d_1 (Conv2D)            (None, 6, 6, 4)           40        \n",
      "_________________________________________________________________\n",
      "max_pooling2d_1 (MaxPooling2 (None, 3, 3, 4)           0         \n",
      "_________________________________________________________________\n",
      "flatten (Flatten)            (None, 36)                0         \n",
      "_________________________________________________________________\n",
      "dense_3 (Dense)              (None, 10)                370       \n",
      "=================================================================\n",
      "Total params: 410\n",
      "Trainable params: 410\n",
      "Non-trainable params: 0\n",
      "_________________________________________________________________\n"
     ]
    }
   ],
   "source": [
    "cnn_model.summary()"
   ]
  },
  {
   "cell_type": "code",
   "execution_count": null,
   "id": "06a638ed",
   "metadata": {},
   "outputs": [],
   "source": []
  }
 ],
 "metadata": {
  "kernelspec": {
   "display_name": "Python 3 (ipykernel)",
   "language": "python",
   "name": "python3"
  },
  "language_info": {
   "codemirror_mode": {
    "name": "ipython",
    "version": 3
   },
   "file_extension": ".py",
   "mimetype": "text/x-python",
   "name": "python",
   "nbconvert_exporter": "python",
   "pygments_lexer": "ipython3",
   "version": "3.9.4"
  }
 },
 "nbformat": 4,
 "nbformat_minor": 5
}
